{
 "cells": [
  {
   "cell_type": "code",
   "execution_count": 3,
   "metadata": {},
   "outputs": [
    {
     "name": "stdout",
     "output_type": "stream",
     "text": [
      "                                            sentence  label  idx\n",
      "0       hide new secretions from the parental units       0    0\n",
      "1               contains no wit , only labored gags       0    1\n",
      "2  that loves its characters and communicates som...      1    2\n",
      "3  remains utterly satisfied to remain the same t...      0    3\n",
      "4  on the worst revenge-of-the-nerds clichés the ...      0    4\n"
     ]
    }
   ],
   "source": [
    "import pandas as pd\n",
    "import os\n",
    "train_df = pd.read_csv(\"SST/sst2_train.csv\")\n",
    "val_df = pd.read_csv(\"SST/sst2_validation.csv\")\n",
    "test_df = pd.read_csv(\"SST/sst2_test.csv\")\n",
    "\n",
    "# Inspect a few rows\n",
    "print(train_df.head())\n"
   ]
  },
  {
   "cell_type": "code",
   "execution_count": 4,
   "metadata": {},
   "outputs": [
    {
     "name": "stdout",
     "output_type": "stream",
     "text": [
      "[0 1]\n",
      "[1 0]\n",
      "[-1]\n"
     ]
    }
   ],
   "source": [
    "print(train_df['label'].unique())\n",
    "print(val_df['label'].unique())\n",
    "print(test_df['label'].unique())\n"
   ]
  },
  {
   "cell_type": "code",
   "execution_count": 5,
   "metadata": {},
   "outputs": [
    {
     "name": "stdout",
     "output_type": "stream",
     "text": [
      "67349\n",
      "872\n",
      "1821\n"
     ]
    }
   ],
   "source": [
    "print(len(train_df))\n",
    "print(len(val_df))\n",
    "print(len(test_df))"
   ]
  },
  {
   "cell_type": "code",
   "execution_count": null,
   "metadata": {},
   "outputs": [
    {
     "data": {
      "application/vnd.jupyter.widget-view+json": {
       "model_id": "dc658ddc8606476dacd4fba7057e966e",
       "version_major": 2,
       "version_minor": 0
      },
      "text/plain": [
       "Generating train split: 0 examples [00:00, ? examples/s]"
      ]
     },
     "metadata": {},
     "output_type": "display_data"
    },
    {
     "data": {
      "application/vnd.jupyter.widget-view+json": {
       "model_id": "5a4def367be04df281cf55fb26ae7f6b",
       "version_major": 2,
       "version_minor": 0
      },
      "text/plain": [
       "Generating validation split: 0 examples [00:00, ? examples/s]"
      ]
     },
     "metadata": {},
     "output_type": "display_data"
    },
    {
     "data": {
      "application/vnd.jupyter.widget-view+json": {
       "model_id": "64bd7ff004834d688888bb611379d6d3",
       "version_major": 2,
       "version_minor": 0
      },
      "text/plain": [
       "Generating test split: 0 examples [00:00, ? examples/s]"
      ]
     },
     "metadata": {},
     "output_type": "display_data"
    },
    {
     "name": "stdout",
     "output_type": "stream",
     "text": [
      "{'sentence': 'hide new secretions from the parental units ', 'label': 0, 'idx': 0}\n"
     ]
    }
   ],
   "source": [
    "from datasets import load_dataset\n",
    "\n",
    "dataset = load_dataset('csv', data_files={\n",
    "    'train': 'SST/sst2_train.csv',\n",
    "    'validation': 'SST/sst2_validation.csv',\n",
    "    'test': 'SST/sst2_test.csv'\n",
    "})\n",
    "\n",
    "# Inspect a sample\n",
    "print(dataset[\"train\"][0])\n"
   ]
  },
  {
   "cell_type": "code",
   "execution_count": null,
   "metadata": {},
   "outputs": [
    {
     "name": "stdout",
     "output_type": "stream",
     "text": [
      "Dataset({\n",
      "    features: ['sentence', 'label', 'idx'],\n",
      "    num_rows: 67349\n",
      "})\n"
     ]
    }
   ],
   "source": [
    "print((dataset[\"train\"]))"
   ]
  },
  {
   "cell_type": "code",
   "execution_count": 16,
   "metadata": {},
   "outputs": [
    {
     "name": "stdout",
     "output_type": "stream",
     "text": [
      "0.44217434557305973\n",
      "0.5578256544269403\n",
      "0.4908256880733945\n",
      "0.5091743119266054\n"
     ]
    }
   ],
   "source": [
    "print((train_df['label']==0).sum()/len(train_df))\n",
    "print((train_df['label']==1).sum()/len(train_df))\n",
    "print((val_df['label']==0).sum()/len(val_df))\n",
    "print((val_df['label']==1).sum()/len(val_df))"
   ]
  }
 ],
 "metadata": {
  "kernelspec": {
   "display_name": "Python 3",
   "language": "python",
   "name": "python3"
  },
  "language_info": {
   "codemirror_mode": {
    "name": "ipython",
    "version": 3
   },
   "file_extension": ".py",
   "mimetype": "text/x-python",
   "name": "python",
   "nbconvert_exporter": "python",
   "pygments_lexer": "ipython3",
   "version": "3.11.11"
  }
 },
 "nbformat": 4,
 "nbformat_minor": 2
}
