{
 "cells": [
  {
   "cell_type": "code",
   "execution_count": null,
   "metadata": {},
   "outputs": [],
   "source": [
    "import time\n",
    "import psutil\n",
    "import torch\n",
    "from datasets import load_dataset\n",
    "from transformers import BertTokenizer, BertForSequenceClassification, Trainer, TrainingArguments, DataCollatorWithPadding\n",
    "import pandas as pd\n",
    "from ace_tools import display_dataframe_to_user"
   ]
  },
  {
   "cell_type": "code",
   "execution_count": null,
   "metadata": {},
   "outputs": [],
   "source": [
    "model_name = \"prajjwal1/bert-tiny\"\n",
    "tokenizer = BertTokenizer.from_pretrained(model_name)\n",
    "model = BertForSequenceClassification.from_pretrained(model_name, num_labels=2)"
   ]
  },
  {
   "cell_type": "code",
   "execution_count": null,
   "metadata": {},
   "outputs": [],
   "source": [
    "dataset = load_dataset('csv', data_files={\n",
    "    'train': 'sst2_train.csv',\n",
    "    'validation': 'sst2_validation.csv'\n",
    "})"
   ]
  },
  {
   "cell_type": "code",
   "execution_count": null,
   "metadata": {},
   "outputs": [],
   "source": [
    "def tokenize_function(example):\n",
    "    return tokenizer(example['sentence'], truncation=True)\n",
    "tokenized_datasets = dataset.map(tokenize_function, batched=True)\n",
    "data_collator = DataCollatorWithPadding(tokenizer=tokenizer)"
   ]
  },
  {
   "cell_type": "code",
   "execution_count": null,
   "metadata": {},
   "outputs": [],
   "source": [
    "subset_sizes = [25, 50, 100]\n",
    "results = []\n",
    "for size in subset_sizes:\n",
    "    subset = tokenized_datasets['train'].shuffle(seed=42).select(range(size))\n",
    "    \n",
    "    training_args = TrainingArguments(\n",
    "        output_dir=f'./results_subset_{size}',\n",
    "        num_train_epochs=3,\n",
    "        per_device_train_batch_size=8,\n",
    "        per_device_eval_batch_size=8,\n",
    "        logging_steps=10,\n",
    "        evaluation_strategy=\"epoch\",\n",
    "        save_strategy=\"no\",\n",
    "        disable_tqdm=True\n",
    "    )\n",
    "    \n",
    "    trainer = Trainer(\n",
    "        model=model,\n",
    "        args=training_args,\n",
    "        train_dataset=subset,\n",
    "        eval_dataset=tokenized_datasets['validation'],\n",
    "        tokenizer=tokenizer,\n",
    "        data_collator=data_collator\n",
    "    )\n",
    "    \n",
    "    process = psutil.Process()\n",
    "    mem_before = process.memory_info().rss / (1024 ** 2)\n",
    "    start_time = time.time()\n",
    "    \n",
    "    train_output = trainer.train()\n",
    "    eval_output = trainer.evaluate()\n",
    "    \n",
    "    time_elapsed = time.time() - start_time\n",
    "    mem_after = process.memory_info().rss / (1024 ** 2)\n",
    "    \n",
    "    results.append({\n",
    "        'subset_size': size,\n",
    "        'train_time_sec': round(time_elapsed, 2),\n",
    "        'memory_before_mb': round(mem_before, 2),\n",
    "        'memory_after_mb': round(mem_after, 2),\n",
    "        'eval_accuracy': round(eval_output.get('eval_accuracy', 0), 4)\n",
    "    })\n",
    "\n",
    "\n",
    "df_results = pd.DataFrame(results)\n",
    "display_dataframe_to_user(\"Subset Selection Baseline Results\", df_results)\n"
   ]
  }
 ],
 "metadata": {
  "kernelspec": {
   "display_name": "Python 3",
   "language": "python",
   "name": "python3"
  },
  "language_info": {
   "codemirror_mode": {
    "name": "ipython",
    "version": 3
   },
   "file_extension": ".py",
   "mimetype": "text/x-python",
   "name": "python",
   "nbconvert_exporter": "python",
   "pygments_lexer": "ipython3",
   "version": "3.11.11"
  }
 },
 "nbformat": 4,
 "nbformat_minor": 2
}
