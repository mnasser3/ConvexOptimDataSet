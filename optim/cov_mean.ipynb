{
 "cells": [
  {
   "cell_type": "code",
   "execution_count": 277,
   "metadata": {},
   "outputs": [],
   "source": [
    "\n",
    "import numpy as np\n",
    "import matplotlib.pyplot as plt\n",
    "import cvxpy as cp\n",
    "import pandas as pd\n",
    "from scipy.optimize import root\n"
   ]
  },
  {
   "cell_type": "code",
   "execution_count": 89,
   "metadata": {},
   "outputs": [],
   "source": [
    "X_train_full = np.load('X_train.npy')\n",
    "X_val_full = np.load('X_val.npy')\n",
    "Y_train_full = np.load('Y_train.npy')\n",
    "Y_val_full = np.load('Y_val.npy')\n"
   ]
  },
  {
   "cell_type": "code",
   "execution_count": 90,
   "metadata": {},
   "outputs": [
    {
     "name": "stdout",
     "output_type": "stream",
     "text": [
      "(67349, 128) (872, 128)\n",
      "(67349,) (872,)\n"
     ]
    }
   ],
   "source": [
    "print(X_train_full.shape, X_val_full.shape)\n",
    "print(Y_train_full.shape, Y_val_full.shape)"
   ]
  },
  {
   "cell_type": "code",
   "execution_count": 91,
   "metadata": {},
   "outputs": [
    {
     "data": {
      "text/plain": [
       "array([0.49082569, 0.50917431])"
      ]
     },
     "execution_count": 91,
     "metadata": {},
     "output_type": "execute_result"
    }
   ],
   "source": [
    "unique_labels = np.sort(np.unique(Y_val_full).astype(int))\n",
    "labels_frac = np.array([(Y_val_full == unique_labels[i]).sum() for i in range(len(unique_labels))])/len(Y_val_full)\n",
    "labels_frac"
   ]
  },
  {
   "cell_type": "code",
   "execution_count": 242,
   "metadata": {},
   "outputs": [
    {
     "name": "stdout",
     "output_type": "stream",
     "text": [
      "(67348, 128) (871, 128)\n",
      "(67348,) (871,)\n",
      "[0.49138921 0.50861079]\n"
     ]
    }
   ],
   "source": [
    "size = -1\n",
    "X_train = X_train_full[:size]\n",
    "Y_train = Y_train_full[:size]\n",
    "X_val = X_val_full[:size]\n",
    "Y_val = Y_val_full[:size]\n",
    "print(X_train.shape, X_val.shape)\n",
    "print(Y_train.shape, Y_val.shape)\n",
    "\n",
    "n = X_train.shape[0]\n",
    "XV_mean = np.mean(X_val, axis=0)\n",
    "XT_mean = np.mean(X_train, axis=0)\n",
    "Xc_train = X_train - XV_mean\n",
    "Xc_Val = X_val - XV_mean\n",
    "\n",
    "unique_labels = np.sort(np.unique(Y_val).astype(int))\n",
    "labels_frac = np.array([(Y_val == unique_labels[i]).sum() for i in range(len(unique_labels))])/len(Y_val)\n",
    "print(labels_frac)\n",
    "\n",
    "target_mu = XV_mean\n",
    "target_S = Xc_Val.T @ Xc_Val / len(X_val)"
   ]
  },
  {
   "cell_type": "code",
   "execution_count": null,
   "metadata": {},
   "outputs": [],
   "source": [
    "def f(w, X, Xc, mu, beta_cov, Sigma, alpha, tau, s):\n",
    "    r = X.T.dot(w)\n",
    "    diff = r - mu\n",
    "    g1 = diff.dot(diff)\n",
    "\n",
    "    Cw = Xc.T.dot(Xc * w[:, None])\n",
    "    E = Cw - Sigma\n",
    "    g2 = beta_cov * np.sum(E * E)\n",
    "\n",
    "    g3 = -alpha * (s.dot(w))\n",
    "    g4 = tau * np.sum(np.abs(w))\n",
    "\n",
    "    return g1 + g2 + g3 + g4\n",
    "\n",
    "def project_C(v, labels, p_c, delta):\n",
    "    v = np.asarray(v, dtype=float)\n",
    "    labels = np.asarray(labels)\n",
    "    classes, inv = np.unique(labels, return_inverse=True)\n",
    "    C = len(classes)\n",
    "\n",
    "    p_minus = np.array([p_c[c] - delta for c in classes])\n",
    "    p_plus  = np.array([p_c[c] + delta for c in classes])\n",
    "\n",
    "    def residuals(duals):\n",
    "        lam    = duals[0]\n",
    "        a_minus = duals[1:1+C]\n",
    "        a_plus  = duals[1+C:1+2*C]\n",
    "\n",
    "        shift = v - lam + a_minus[inv] - a_plus[inv]\n",
    "        w = np.clip(shift, 0.0, 1.0)\n",
    "\n",
    "        res = [w.sum() - 1.0]\n",
    "\n",
    "        for idx, c in enumerate(classes):\n",
    "            mask = (labels == c)\n",
    "            s_c = w[mask].sum()\n",
    "            res.append(s_c - p_minus[idx])\n",
    "            res.append(s_c - p_plus[idx])\n",
    "\n",
    "        return np.array(res)\n",
    "\n",
    "    x0 = np.zeros(1 + 2*C)\n",
    "    sol = root(residuals, x0, method='hybr')\n",
    "    lam    = sol.x[0]\n",
    "    a_minus = sol.x[1:1+C]\n",
    "    a_plus  = sol.x[1+C:1+2*C]\n",
    "\n",
    "    shift = v - lam + a_minus[inv] - a_plus[inv]\n",
    "    w = np.clip(shift, 0.0, 1.0)\n",
    "    return w\n",
    "\n",
    "def grad_g(y, X, mu, Sigma, alpha, beta_cov, s,M):\n",
    "    r=X.T.dot(y)-mu\n",
    "    g1=2*X.dot(r)\n",
    "    C=M.T.dot(M*y[:,None])-Sigma\n",
    "    tmp=M.dot(C)\n",
    "    g2=2*beta_cov*np.sum(M*tmp,axis=1)\n",
    "    return g1+g2-alpha*s\n",
    "\n",
    "def prox_l1_projC(v, labels, p_c, delta, tau, step):\n",
    "    z = np.sign(v) * np.maximum(np.abs(v) - step*tau, 0)\n",
    "    return project_C(z, labels, p_c, delta)\n",
    "\n",
    "def fista(X, mu, Sigma, s, alpha, beta_cov, tau, labels, p_c, delta, step=10, max_iter=1000):\n",
    "    n = X.shape[0]\n",
    "    w = np.ones(n) / n\n",
    "    z = w.copy()\n",
    "    q = 1.0\n",
    "    step=step\n",
    "    M  = X - mu  \n",
    "    for _ in range(max_iter):\n",
    "        g = grad_g(z, X, mu, Sigma, alpha, beta_cov, s,M)\n",
    "        fz = f(z, X, M, mu, beta_cov, Sigma, alpha, tau, s)\n",
    "        while True:\n",
    "            w_temp = prox_l1_projC(z - step*g, labels, p_c, delta, tau, step)\n",
    "            fnext = f(w_temp, X, M, mu, beta_cov, Sigma, alpha, tau, s)\n",
    "            if fnext <= fz + g.dot(w_temp - z) + 1/(2*step)* np.linalg.norm(w_temp - z)**2:\n",
    "                break\n",
    "            step *= 0.5\n",
    "        \n",
    "        q_next = (1 + np.sqrt(1 + 4 * q**2))/ 2\n",
    "        z = w_temp + (q - 1)/q_next*(w_temp - w)\n",
    "        w, q = w_temp, q_next\n",
    "        step = step / 0.5\n",
    "        diff = fnext - fz\n",
    "        if np.abs(diff) < 1e-4:\n",
    "            break\n",
    "    return w"
   ]
  },
  {
   "cell_type": "code",
   "execution_count": 323,
   "metadata": {},
   "outputs": [
    {
     "name": "stdout",
     "output_type": "stream",
     "text": [
      "(67348, 128) (871, 128)\n",
      "(67348,) (871,)\n",
      "[0.49138921 0.50861079]\n"
     ]
    }
   ],
   "source": [
    "size = -1\n",
    "X_train = X_train_full[:size]\n",
    "Y_train = Y_train_full[:size]\n",
    "X_val = X_val_full[:size]\n",
    "Y_val = Y_val_full[:size]\n",
    "print(X_train.shape, X_val.shape)\n",
    "print(Y_train.shape, Y_val.shape)\n",
    "\n",
    "n = X_train.shape[0]\n",
    "XV_mean = np.mean(X_val, axis=0)\n",
    "XT_mean = np.mean(X_train, axis=0)\n",
    "Xc_train = X_train - XV_mean\n",
    "Xc_Val = X_val - XV_mean\n",
    "\n",
    "unique_labels = np.sort(np.unique(Y_val).astype(int))\n",
    "labels_frac = np.array([(Y_val == unique_labels[i]).sum() for i in range(len(unique_labels))])/len(Y_val)\n",
    "print(labels_frac)\n",
    "\n",
    "target_mu = XV_mean\n",
    "target_S = Xc_Val.T @ Xc_Val / len(X_val)"
   ]
  },
  {
   "cell_type": "code",
   "execution_count": 324,
   "metadata": {},
   "outputs": [
    {
     "name": "stdout",
     "output_type": "stream",
     "text": [
      "Execution time: 27.611281871795654 seconds\n",
      "top 15 estimated w: [np.float64(0.0005239072626080905), np.float64(0.0004969643103651013), np.float64(0.0004931870117608791), np.float64(0.0004886675576253748), np.float64(0.00047923287446078824)]\n",
      "1.0005500238654699\n",
      "0.0\n",
      "0.0005239072626080905\n"
     ]
    },
    {
     "data": {
      "text/plain": [
       "np.float64(0.3993719645069473)"
      ]
     },
     "execution_count": 324,
     "metadata": {},
     "output_type": "execute_result"
    }
   ],
   "source": [
    "import time\n",
    "\n",
    "s = np.zeros((X_train.shape[0],))\n",
    "beta = 1\n",
    "lambd = 0.1\n",
    "start_time = time.time()\n",
    "w_estimated = fista(X_train, target_mu, target_S, s, 0, beta, lambd, Y_train, labels_frac, 0.1)\n",
    "end_time = time.time()\n",
    "\n",
    "print(f\"Execution time: {end_time - start_time} seconds\")\n",
    "wki = sorted(w_estimated, reverse=True)\n",
    "print(\"top 15 estimated w:\", wki[:5])\n",
    "print(sum(wki))\n",
    "print(min(wki))\n",
    "print(max(wki))\n",
    "f(w_estimated, X_train, X_train-target_mu, target_mu, beta, target_S, 0, lambd, s)"
   ]
  },
  {
   "cell_type": "code",
   "execution_count": 269,
   "metadata": {},
   "outputs": [
    {
     "data": {
      "text/plain": [
       "np.float64(51.55761432787667)"
      ]
     },
     "execution_count": 269,
     "metadata": {},
     "output_type": "execute_result"
    }
   ],
   "source": [
    "# Projected Accelerated Proximal Gradient Descent with Line Search\n",
    "wpgd=w_estimated\n",
    "Wpgd = np.diag(wpgd)\n",
    "goal_mu = (X_train.T @ wpgd)\n",
    "goal_cov = Xc_train.T @ Wpgd @ Xc_train\n",
    "mean_match = np.sum((goal_mu - target_mu) ** 2)\n",
    "cov_match = np.linalg.norm(goal_cov - target_S, ord='fro')**2\n",
    "mean_match + beta*cov_match\n"
   ]
  },
  {
   "cell_type": "code",
   "execution_count": 321,
   "metadata": {},
   "outputs": [
    {
     "name": "stdout",
     "output_type": "stream",
     "text": [
      "Status: optimal\n",
      "Optimal value: 16.499167835415918\n",
      "top 15 Optimal w: [np.float64(0.018508345204822096), np.float64(0.017758475420696425), np.float64(0.016338649556524035), np.float64(0.015692525059372485), np.float64(0.01553709431275463)]\n"
     ]
    }
   ],
   "source": [
    "#CVXPY:\n",
    "w = cp.Variable(n,nonneg=True)\n",
    "constraints = [cp.sum(w) == 1]\n",
    "mean_match = cp.sum_squares(X_train.T @ w - target_mu)\n",
    "cov_match = cp.norm(Xc_train.T @ cp.diag(w) @ Xc_train - target_S, 'fro')**2\n",
    "for i in range(len((unique_labels))):\n",
    "    mask = (Y_train == unique_labels[i]).astype(int)\n",
    "    mask = np.reshape(mask, (n, 1))\n",
    "    constraints += [mask.T @w >= (labels_frac[i]-lambd)*cp.sum(w)]\n",
    "    constraints += [mask.T @w <= (labels_frac[i]+lambd)*cp.sum(w)]\n",
    "objective = mean_match + beta*cov_match\n",
    "prob = cp.Problem(cp.Minimize(objective), constraints)\n",
    "prob.solve()\n",
    "wi = sorted(w.value, reverse=True)\n",
    "print(\"Status:\", prob.status)\n",
    "print(\"Optimal value:\", prob.value)\n",
    "print(\"top 15 Optimal w:\", wi[:5])"
   ]
  },
  {
   "cell_type": "code",
   "execution_count": null,
   "metadata": {},
   "outputs": [],
   "source": []
  },
  {
   "cell_type": "code",
   "execution_count": null,
   "metadata": {},
   "outputs": [],
   "source": []
  },
  {
   "cell_type": "code",
   "execution_count": null,
   "metadata": {},
   "outputs": [],
   "source": [
    "def proj_simplex(v):\n",
    "    u = np.sort(v)[::-1]\n",
    "    cssv = np.cumsum(u)\n",
    "    rho = np.nonzero(u * np.arange(1, len(u)+1) > (cssv - 1))[0][-1]\n",
    "    theta = (cssv[rho] - 1) / (rho + 1)\n",
    "    return np.maximum(v - theta, 0)\n",
    "\n",
    "def proj_class_balance(w0, labels, p_c, delta):\n",
    "    w0 = np.asarray(w0)\n",
    "    labels = np.asarray(labels)\n",
    "    s = np.sum(w0)\n",
    "    classes, inverse = np.unique(labels, return_inverse=True)\n",
    "    C = len(classes)\n",
    "    m = np.bincount(inverse, weights=w0, minlength=C)\n",
    "    lower = (p_c - delta) * s\n",
    "    upper = (p_c + delta) * s\n",
    "    m_proj = np.clip(m, lower, upper)\n",
    "    scale = np.divide(m_proj, m, out=np.zeros_like(m_proj), where=m>0)\n",
    "    return w0 * scale[inverse]\n",
    "\n",
    "\n",
    "def project_C(v, labels, p_c, delta, max_iter=50, tol=1e-4):\n",
    "    w = proj_simplex(v)\n",
    "    for _ in range(max_iter):\n",
    "        w_old = w.copy()\n",
    "        w = proj_class_balance(w, labels, p_c, delta)\n",
    "        w = proj_simplex(w)\n",
    "        if np.linalg.norm(w - w_old) < tol:\n",
    "            break\n",
    "    return w\n"
   ]
  }
 ],
 "metadata": {
  "kernelspec": {
   "display_name": "Python 3",
   "language": "python",
   "name": "python3"
  },
  "language_info": {
   "codemirror_mode": {
    "name": "ipython",
    "version": 3
   },
   "file_extension": ".py",
   "mimetype": "text/x-python",
   "name": "python",
   "nbconvert_exporter": "python",
   "pygments_lexer": "ipython3",
   "version": "3.11.11"
  }
 },
 "nbformat": 4,
 "nbformat_minor": 2
}
