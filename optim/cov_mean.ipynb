{
 "cells": [
  {
   "cell_type": "code",
   "execution_count": 73,
   "metadata": {},
   "outputs": [],
   "source": [
    "import numpy as np\n",
    "import matplotlib.pyplot as plt\n",
    "import cvxpy as cp\n",
    "import pandas as pd\n"
   ]
  },
  {
   "cell_type": "code",
   "execution_count": 89,
   "metadata": {},
   "outputs": [],
   "source": [
    "X_train_full = np.load('X_train.npy')\n",
    "X_val_full = np.load('X_val.npy')\n",
    "Y_train_full = np.load('Y_train.npy')\n",
    "Y_val_full = np.load('Y_val.npy')\n"
   ]
  },
  {
   "cell_type": "code",
   "execution_count": 90,
   "metadata": {},
   "outputs": [
    {
     "name": "stdout",
     "output_type": "stream",
     "text": [
      "(67349, 128) (872, 128)\n",
      "(67349,) (872,)\n"
     ]
    }
   ],
   "source": [
    "print(X_train_full.shape, X_val_full.shape)\n",
    "print(Y_train_full.shape, Y_val_full.shape)"
   ]
  },
  {
   "cell_type": "code",
   "execution_count": 91,
   "metadata": {},
   "outputs": [
    {
     "data": {
      "text/plain": [
       "array([0.49082569, 0.50917431])"
      ]
     },
     "execution_count": 91,
     "metadata": {},
     "output_type": "execute_result"
    }
   ],
   "source": [
    "unique_labels = np.sort(np.unique(Y_val_full).astype(int))\n",
    "labels_frac = np.array([(Y_val_full == unique_labels[i]).sum() for i in range(len(unique_labels))])/len(Y_val_full)\n",
    "labels_frac"
   ]
  },
  {
   "cell_type": "code",
   "execution_count": 92,
   "metadata": {},
   "outputs": [
    {
     "name": "stdout",
     "output_type": "stream",
     "text": [
      "(300, 128) (300, 128)\n",
      "(300,) (300,)\n",
      "[0.48333333 0.51666667]\n"
     ]
    }
   ],
   "source": [
    "size = 300\n",
    "X_train = X_train_full[:size]\n",
    "Y_train = Y_train_full[:size]\n",
    "X_val = X_val_full[:size]\n",
    "Y_val = Y_val_full[:size]\n",
    "print(X_train.shape, X_val.shape)\n",
    "print(Y_train.shape, Y_val.shape)\n",
    "\n",
    "n = X_train.shape[0]\n",
    "XV_mean = np.mean(X_val, axis=0)\n",
    "XT_mean = np.mean(X_train, axis=0)\n",
    "Xc_train = X_train - XV_mean\n",
    "Xc_Val = X_val - XV_mean\n",
    "\n",
    "unique_labels = np.sort(np.unique(Y_val).astype(int))\n",
    "labels_frac = np.array([(Y_val == unique_labels[i]).sum() for i in range(len(unique_labels))])/len(Y_val)\n",
    "print(labels_frac)\n",
    "\n",
    "target_mu = XV_mean\n",
    "target_S = Xc_Val.T @ Xc_Val / len(X_val)"
   ]
  },
  {
   "cell_type": "code",
   "execution_count": 105,
   "metadata": {},
   "outputs": [],
   "source": [
    "def f(w,X, mu,beta_cov, Sigma, alpha, tau, s):\n",
    "    n = X.shape[0]\n",
    "    g = np.linalg.norm(X.T@w - mu)**2 + beta_cov * np.linalg.norm((X - np.ones((n,1))*mu.T).T@np.diag(w)@(X - np.ones((n,1))*mu.T) - Sigma, 'fro')**2 - alpha*s.dot(w)\n",
    "    return g + tau*np.linalg.norm(w,1)\n",
    "\n",
    "def proj_simplex(v):\n",
    "    u = np.sort(v)[::-1]\n",
    "    cssv = np.cumsum(u)\n",
    "    rho = np.nonzero(u * np.arange(1, len(u)+1) > (cssv - 1))[0][-1]\n",
    "    theta = (cssv[rho] - 1) / (rho + 1)\n",
    "    return np.maximum(v - theta, 0)\n",
    "\n",
    "def proj_class_balance(w0, labels, p_c, delta):\n",
    "    w0 = np.asarray(w0)\n",
    "    labels = np.asarray(labels)\n",
    "    s = np.sum(w0)\n",
    "    classes, inverse = np.unique(labels, return_inverse=True)\n",
    "    C = len(classes)\n",
    "    m = np.bincount(inverse, weights=w0, minlength=C)\n",
    "    lower = (p_c - delta) * s\n",
    "    upper = (p_c + delta) * s\n",
    "    m_proj = np.clip(m, lower, upper)\n",
    "    scale = np.divide(m_proj, m, out=np.zeros_like(m_proj), where=m>0)\n",
    "    return w0 * scale[inverse]\n",
    "\n",
    "\n",
    "def project_C(v, labels, p_c, delta, max_iter=50, tol=1e-4):\n",
    "    w = proj_simplex(v)\n",
    "    for _ in range(max_iter):\n",
    "        w_old = w.copy()\n",
    "        w = proj_class_balance(w, labels, p_c, delta)\n",
    "        w = proj_simplex(w)\n",
    "        if np.linalg.norm(w - w_old) < tol:\n",
    "            break\n",
    "    return w\n",
    "\n",
    "def grad_g(w, X, mu, Sigma, alpha, beta_cov, s):\n",
    "    M = X - np.ones((X.shape[0],1)) * mu[np.newaxis,:]\n",
    "    g1 = 2 * X @ (X.T @ w - mu)\n",
    "    C = M.T @ (w[:,None]*M) - Sigma\n",
    "    g2 = 2*beta_cov * np.einsum('ij,jk,ik->i', M, C, M)\n",
    "    return g1 + g2 - alpha * s\n",
    "\n",
    "def prox_l1_projC(v, labels, p_c, delta, tau, step):\n",
    "    z = np.sign(v) * np.maximum(np.abs(v) - step*tau, 0)\n",
    "    return project_C(z, labels, p_c, delta)\n",
    "\n",
    "def fista(X, mu, Sigma, s, alpha, beta_cov, tau, labels, p_c, delta, step=10, max_iter=1000):\n",
    "    n = X.shape[0]\n",
    "    w = np.ones(n) / n\n",
    "    z = w.copy()\n",
    "    q = 1.0\n",
    "    step=step\n",
    "    \n",
    "    for _ in range(max_iter):\n",
    "        g = grad_g(z, X, mu, Sigma, alpha, beta_cov, s)\n",
    "        fz = f(z, X, mu, beta_cov, Sigma, alpha, tau, s)\n",
    "        while True:\n",
    "            w_temp = prox_l1_projC(z - step*g, labels, p_c, delta, tau, step)\n",
    "            fnext = f(w_temp, X, mu, beta_cov, Sigma, alpha, tau, s)\n",
    "            if fnext <= fz + g.dot(w_temp - z) + 1/(2*step)* np.linalg.norm(w_temp - z)**2:\n",
    "                break\n",
    "            step *= 0.5\n",
    "        \n",
    "        q_next = (1 + np.sqrt(1 + 4 * q**2))/ 2\n",
    "        z = w_temp + (q - 1)/q_next*(w_temp - w)\n",
    "        w, q = w_temp, q_next\n",
    "        step = step / 0.5\n",
    "        if np.abs(fnext - fz) < 1e-4:\n",
    "            break\n",
    "    return w"
   ]
  },
  {
   "cell_type": "code",
   "execution_count": 106,
   "metadata": {},
   "outputs": [
    {
     "name": "stdout",
     "output_type": "stream",
     "text": [
      "top 15 estimated w: [np.float64(0.018420017563119537), np.float64(0.017758119255722574), np.float64(0.016240370001463306), np.float64(0.015638426925616466), np.float64(0.015467021223786449)]\n",
      "0.9999999999999999\n",
      "3.7007434154171887e-19\n",
      "0.018420017563119537\n"
     ]
    },
    {
     "data": {
      "text/plain": [
       "np.float64(16.59943073148767)"
      ]
     },
     "execution_count": 106,
     "metadata": {},
     "output_type": "execute_result"
    }
   ],
   "source": [
    "s = np.zeros((X_train.shape[0],))\n",
    "beta = 1\n",
    "lambd = 0.1\n",
    "w_estimated = fista(X_train, target_mu, target_S, s, 0, beta, lambd, Y_train, labels_frac, 0.1)\n",
    "wki = sorted(w_estimated, reverse=True)\n",
    "print(\"top 15 estimated w:\", wki[:5])\n",
    "print(sum(wki))\n",
    "print(min(wki))\n",
    "print(max(wki))\n",
    "f(w_estimated, X_train, target_mu, beta, target_S, 0, lambd, s)"
   ]
  },
  {
   "cell_type": "code",
   "execution_count": 95,
   "metadata": {},
   "outputs": [
    {
     "data": {
      "text/plain": [
       "np.float64(16.49953374316287)"
      ]
     },
     "execution_count": 95,
     "metadata": {},
     "output_type": "execute_result"
    }
   ],
   "source": [
    "# Projected Accelerated Proximal Gradient Descent with Line Search\n",
    "wpgd=w_estimated\n",
    "Wpgd = np.diag(wpgd)\n",
    "goal_mu = (X_train.T @ wpgd)\n",
    "goal_cov = Xc_train.T @ Wpgd @ Xc_train\n",
    "mean_match = np.sum((goal_mu - target_mu) ** 2)\n",
    "cov_match = np.linalg.norm(goal_cov - target_S, ord='fro')**2\n",
    "mean_match + beta*cov_match\n"
   ]
  },
  {
   "cell_type": "code",
   "execution_count": 96,
   "metadata": {},
   "outputs": [
    {
     "name": "stdout",
     "output_type": "stream",
     "text": [
      "Status: optimal\n",
      "Optimal value: 16.499167835415918\n",
      "top 15 Optimal w: [np.float64(0.018508345204822096), np.float64(0.017758475420696425), np.float64(0.016338649556524035), np.float64(0.015692525059372485), np.float64(0.01553709431275463)]\n"
     ]
    }
   ],
   "source": [
    "#CVXPY:\n",
    "w = cp.Variable(n,nonneg=True)\n",
    "constraints = [cp.sum(w) == 1]\n",
    "mean_match = cp.sum_squares(X_train.T @ w - target_mu)\n",
    "cov_match = cp.norm(Xc_train.T @ cp.diag(w) @ Xc_train - target_S, 'fro')**2\n",
    "for i in range(len((unique_labels))):\n",
    "    mask = (Y_train == unique_labels[i]).astype(int)\n",
    "    mask = np.reshape(mask, (n, 1))\n",
    "    constraints += [mask.T @w >= (labels_frac[i]-lambd)*cp.sum(w)]\n",
    "    constraints += [mask.T @w <= (labels_frac[i]+lambd)*cp.sum(w)]\n",
    "objective = mean_match + beta*cov_match\n",
    "prob = cp.Problem(cp.Minimize(objective), constraints)\n",
    "prob.solve()\n",
    "wi = sorted(w.value, reverse=True)\n",
    "print(\"Status:\", prob.status)\n",
    "print(\"Optimal value:\", prob.value)\n",
    "print(\"top 15 Optimal w:\", wi[:5])"
   ]
  }
 ],
 "metadata": {
  "kernelspec": {
   "display_name": "Python 3",
   "language": "python",
   "name": "python3"
  },
  "language_info": {
   "codemirror_mode": {
    "name": "ipython",
    "version": 3
   },
   "file_extension": ".py",
   "mimetype": "text/x-python",
   "name": "python",
   "nbconvert_exporter": "python",
   "pygments_lexer": "ipython3",
   "version": "3.11.11"
  }
 },
 "nbformat": 4,
 "nbformat_minor": 2
}
