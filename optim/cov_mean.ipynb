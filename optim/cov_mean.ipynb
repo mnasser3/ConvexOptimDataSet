{
 "cells": [
  {
   "cell_type": "code",
   "execution_count": 4,
   "metadata": {},
   "outputs": [],
   "source": [
    "import numpy as np\n",
    "import matplotlib.pyplot as plt\n",
    "import cvxpy as cp\n",
    "import pandas as pd\n"
   ]
  },
  {
   "cell_type": "code",
   "execution_count": null,
   "metadata": {},
   "outputs": [],
   "source": [
    "X_train = np.load('X_train.npy')\n",
    "X_val = np.load('X_val.npy')\n",
    "Y_train = np.load('Y_train.npy')\n",
    "Y_val = np.load('Y_val.npy')\n",
    "\n",
    "train_csv = pd.read_csv('X_train.csv')\n",
    "val_csv = pd.read_csv('X_val.csv')\n"
   ]
  },
  {
   "cell_type": "code",
   "execution_count": 33,
   "metadata": {},
   "outputs": [
    {
     "name": "stdout",
     "output_type": "stream",
     "text": [
      "(67349, 128) (872, 128)\n",
      "(67349,) (872,)\n"
     ]
    }
   ],
   "source": [
    "print(X_train.shape, X_val.shape)\n",
    "print(Y_train.shape, Y_val.shape)"
   ]
  },
  {
   "cell_type": "code",
   "execution_count": null,
   "metadata": {},
   "outputs": [
    {
     "data": {
      "text/plain": [
       "array([0.49082569, 0.50917431])"
      ]
     },
     "execution_count": 49,
     "metadata": {},
     "output_type": "execute_result"
    }
   ],
   "source": [
    "unique_labels = np.sort(np.unique(Y_val).astype(int))\n",
    "labels_frac = np.array([(Y_val == unique_labels[i]).sum() for i in range(len(unique_labels))])/len(Y_val)\n",
    "labels_frac"
   ]
  },
  {
   "cell_type": "code",
   "execution_count": 54,
   "metadata": {},
   "outputs": [
    {
     "ename": "",
     "evalue": "",
     "output_type": "error",
     "traceback": [
      "\u001b[1;31mThe Kernel crashed while executing code in the current cell or a previous cell. \n",
      "\u001b[1;31mPlease review the code in the cell(s) to identify a possible cause of the failure. \n",
      "\u001b[1;31mClick <a href='https://aka.ms/vscodeJupyterKernelCrash'>here</a> for more info. \n",
      "\u001b[1;31mView Jupyter <a href='command:jupyter.viewOutput'>log</a> for further details."
     ]
    }
   ],
   "source": [
    "n = X_train.shape[0]\n",
    "XV_mean = np.mean(X_val, axis=0)\n",
    "XT_mean = np.mean(X_train, axis=0)\n",
    "Xc_train = X_train - XV_mean\n",
    "Xc_Val = X_val - XV_mean\n",
    "\n",
    "unique_labels = np.sort(np.unique(Y_val).astype(int))\n",
    "labels_frac = np.array([(Y_val == unique_labels[i]).sum() for i in range(len(unique_labels))])/len(Y_val)\n",
    "\n",
    "target_mu = XV_mean\n",
    "target_S = Xc_Val.T @ Xc_Val / len(X_val)\n",
    "\n",
    "alpha = 1\n",
    "beta = 1\n",
    "lambd = 0.1\n",
    "w = cp.Variable(n, nonneg=True)\n",
    "W = cp.diag(w)\n",
    "\n",
    "\n",
    "goal_mu = (X_train.T @ w)\n",
    "goal_cov = Xc_train.T @ W @ Xc_train\n",
    "mean_match = cp.sum_squares(goal_mu - target_mu)\n",
    "cov_match  = cp.norm(goal_cov - target_S, 'fro')**2\n",
    "\n",
    "constraints = [cp.sum(w) == 1]\n",
    "constraints += [w >= 0]\n",
    "constraints += [w <= 1]\n",
    "for i in range(len((unique_labels))):\n",
    "    mask = (Y_train == unique_labels[i]).astype(int)\n",
    "    mask = np.reshape(mask, (n, 1))\n",
    "    constraints += [mask.T @w >= (labels_frac[i]-lambd)*cp.sum(w)]\n",
    "    constraints += [mask.T @w <= (labels_frac[i]+lambd)*cp.sum(w)]\n",
    "    \n",
    "objective = mean_match + beta*cov_match\n",
    "prob = cp.Problem(cp.Minimize(objective), constraints)\n",
    "prob.solve()\n",
    "print(\"Status:\", prob.status)\n",
    "print(\"Optimal value:\", prob.value)\n",
    "print(\"top 15 Optimal w:\", w[:15].value)"
   ]
  },
  {
   "cell_type": "code",
   "execution_count": null,
   "metadata": {},
   "outputs": [],
   "source": []
  }
 ],
 "metadata": {
  "kernelspec": {
   "display_name": "Python 3",
   "language": "python",
   "name": "python3"
  },
  "language_info": {
   "codemirror_mode": {
    "name": "ipython",
    "version": 3
   },
   "file_extension": ".py",
   "mimetype": "text/x-python",
   "name": "python",
   "nbconvert_exporter": "python",
   "pygments_lexer": "ipython3",
   "version": "3.11.11"
  }
 },
 "nbformat": 4,
 "nbformat_minor": 2
}
